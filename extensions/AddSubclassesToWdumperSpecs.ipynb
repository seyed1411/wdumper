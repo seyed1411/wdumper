{
 "cells": [
  {
   "cell_type": "markdown",
   "metadata": {},
   "source": [
    "# Adding Subclass Extraction to WDumper"
   ]
  },
  {
   "cell_type": "raw",
   "metadata": {},
   "source": [
    "In this file, I provide a code you can use to enrich the wdumper specification files with sub-classes. The main issue with WDumper is you should add all sub-classes of a type to the spec file separately which is very hard doing it by hand. In this file, we first grab all QIDs of subtypes (that their parent class already is added to the input spec file) with a SPARQL query and add their proper JSON nodes into an existed wdumper spec file.\n",
    "\n",
    "INPUT  : wdumper spec file with P31 hasValue QXX filters in it\n",
    "OUTPUT : wdumper spec file with added P31hasValue (subclasses of QXX ) filters"
   ]
  },
  {
   "cell_type": "code",
   "execution_count": 54,
   "metadata": {},
   "outputs": [
    {
     "name": "stdout",
     "output_type": "stream",
     "text": [
      "{'type': 'entityid', 'rank': 'all', 'id': 1, 'value': 'Q423026', 'property': 'P31'}\n",
      "1\n",
      "{'type': 'entityid', 'rank': 'all', 'id': 13, 'value': 'Q4936952', 'property': 'P31'}\n",
      "2\n",
      "{'type': 'entityid', 'rank': 'all', 'id': 15, 'value': 'Q616005', 'property': 'P31'}\n",
      "3\n",
      "{'type': 'entityid', 'rank': 'all', 'id': 17, 'value': 'Q4915012', 'property': 'P31'}\n",
      "4\n",
      "{'type': 'entityid', 'rank': 'all', 'id': 21, 'value': 'Q12136', 'property': 'P31'}\n",
      "5\n",
      "{'type': 'entityid', 'rank': 'all', 'id': 23, 'value': 'Q7187', 'property': 'P31'}\n",
      "6\n",
      "{'type': 'entityid', 'rank': 'all', 'id': 25, 'value': 'Q12140', 'property': 'P31'}\n",
      "7\n",
      "{'type': 'entityid', 'rank': 'all', 'id': 27, 'value': 'Q28885102', 'property': 'P31'}\n",
      "8\n",
      "{'type': 'entityid', 'rank': 'all', 'id': 29, 'value': 'Q50377224', 'property': 'P31'}\n",
      "9\n",
      "{'type': 'entityid', 'rank': 'all', 'id': 31, 'value': 'Q898273', 'property': 'P31'}\n",
      "10\n",
      "{'type': 'entityid', 'rank': 'all', 'id': 33, 'value': 'Q417841', 'property': 'P31'}\n",
      "11\n",
      "{'type': 'entityid', 'rank': 'all', 'id': 35, 'value': 'Q8054', 'property': 'P31'}\n",
      "12\n",
      "{'type': 'entityid', 'rank': 'all', 'id': 37, 'value': 'Q215980', 'property': 'P31'}\n",
      "13\n",
      "{'type': 'entityid', 'rank': 'all', 'id': 39, 'value': 'Q15304597', 'property': 'P31'}\n",
      "14\n",
      "{'type': 'entityid', 'rank': 'all', 'id': 41, 'value': 'Q7644128', 'property': 'P31'}\n",
      "15\n",
      "{'type': 'entityid', 'rank': 'all', 'id': 43, 'value': 'Q50379781', 'property': 'P31'}\n",
      "16\n",
      "17\n"
     ]
    }
   ],
   "source": [
    "# pip install sparqlwrapper\n",
    "# https://rdflib.github.io/sparqlwrapper/\n",
    "\n",
    "import sys, json, requests, copy\n",
    "from SPARQLWrapper import SPARQLWrapper, JSON\n",
    "\n",
    "\n",
    "wikidataEndpoint = 'https://query.wikidata.org/sparql'\n",
    "queryTemplate = \"\"\"\n",
    "PREFIX wd: <http://www.wikidata.org/entity/>\n",
    "PREFIX wdt: <http://www.wikidata.org/prop/direct/>\n",
    "SELECT ?subtypeQIDs WHERE {{\n",
    "    ?subtypeQIDs wdt:P279+ {0} .\n",
    "}}\n",
    "\n",
    "\"\"\"\n",
    "def get_results(endpoint_url, query):\n",
    "    user_agent = \"WDQS-example Python/%s.%s\" % (sys.version_info[0], sys.version_info[1])\n",
    "    sparql = SPARQLWrapper(endpoint_url,user_agent)\n",
    "    sparql.setQuery(query)\n",
    "    sparql.setReturnFormat(JSON)\n",
    "    return sparql.query().convert()\n",
    "\n",
    "with open(\"GeneWiki-RQFS-Properties.json\") as datafile:\n",
    "  data = json.load(datafile)\n",
    "outData=copy.deepcopy(data)\n",
    "ctr=0\n",
    "for entity in data['entities']:\n",
    "    if entity['type']=='item':\n",
    "        for property in entity['properties']:\n",
    "            print(property)\n",
    "            if property['property']=='P31' and property['type']=='entityid':\n",
    "                query=queryTemplate.format('wd:'+property['value'])\n",
    "                #print(query)\n",
    "                results = get_results(wikidataEndpoint, query)\n",
    "                for qid in results['results']['bindings']:\n",
    "                    value=qid['subtypeQIDs']['value'].replace('http://www.wikidata.org/entity/','')\n",
    "                    if len(entity['properties'])==1:\n",
    "                        outData['entities'].append({'type': 'item','properties': [{'type':'entityid','rank': 'all','value': value,'property': 'P31'}]})\n",
    "                    else:\n",
    "                        outData['entities'][ctr]['properties'].append({'type': 'entityid','rank': 'all','value': value,'property': 'P31'})\n",
    "                    #print(newNode)\n",
    "    ctr=ctr+1\n",
    "with open('GeneWiki-RQFS-PropertiesandSubclasses.json', 'w') as outfile:\n",
    "    json.dump(outData, outfile)"
   ]
  },
  {
   "cell_type": "code",
   "execution_count": null,
   "metadata": {},
   "outputs": [],
   "source": []
  }
 ],
 "metadata": {
  "kernelspec": {
   "display_name": "Python 3",
   "language": "python",
   "name": "python3"
  },
  "language_info": {
   "codemirror_mode": {
    "name": "ipython",
    "version": 3
   },
   "file_extension": ".py",
   "mimetype": "text/x-python",
   "name": "python",
   "nbconvert_exporter": "python",
   "pygments_lexer": "ipython3",
   "version": "3.7.6"
  }
 },
 "nbformat": 4,
 "nbformat_minor": 4
}
